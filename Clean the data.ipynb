{
 "cells": [
  {
   "cell_type": "markdown",
   "metadata": {},
   "source": [
    "# Clean the text"
   ]
  },
  {
   "cell_type": "code",
   "execution_count": 1,
   "metadata": {},
   "outputs": [],
   "source": [
    "from __future__ import division\n",
    "\n",
    "import re\n",
    "import string\n",
    "import cPickle\n",
    "import unicodedata\n",
    "import numpy as np\n",
    "import pandas as pd\n",
    "\n",
    "from nltk.corpus import stopwords\n",
    "from nltk.tokenize import word_tokenize\n",
    "from nltk.stem.snowball import SnowballStemmer"
   ]
  },
  {
   "cell_type": "markdown",
   "metadata": {},
   "source": [
    "Read in the pickled text and put into a dataframe."
   ]
  },
  {
   "cell_type": "code",
   "execution_count": 2,
   "metadata": {},
   "outputs": [
    {
     "data": {
      "text/html": [
       "<div>\n",
       "<style scoped>\n",
       "    .dataframe tbody tr th:only-of-type {\n",
       "        vertical-align: middle;\n",
       "    }\n",
       "\n",
       "    .dataframe tbody tr th {\n",
       "        vertical-align: top;\n",
       "    }\n",
       "\n",
       "    .dataframe thead th {\n",
       "        text-align: right;\n",
       "    }\n",
       "</style>\n",
       "<table border=\"1\" class=\"dataframe\">\n",
       "  <thead>\n",
       "    <tr style=\"text-align: right;\">\n",
       "      <th></th>\n",
       "      <th>text</th>\n",
       "    </tr>\n",
       "  </thead>\n",
       "  <tbody>\n",
       "    <tr>\n",
       "      <th>0</th>\n",
       "      <td>To ask Mr Chancellor of the Exchequer, whether...</td>\n",
       "    </tr>\n",
       "    <tr>\n",
       "      <th>1</th>\n",
       "      <td>To ask Mr Chancellor of the Exchequer, how man...</td>\n",
       "    </tr>\n",
       "    <tr>\n",
       "      <th>2</th>\n",
       "      <td>To ask Her Majesty's Government whether an Eng...</td>\n",
       "    </tr>\n",
       "    <tr>\n",
       "      <th>3</th>\n",
       "      <td>To ask Mr Chancellor of the Exchequer, how man...</td>\n",
       "    </tr>\n",
       "    <tr>\n",
       "      <th>4</th>\n",
       "      <td>To ask Mr Chancellor of the Exchequer, when he...</td>\n",
       "    </tr>\n",
       "  </tbody>\n",
       "</table>\n",
       "</div>"
      ],
      "text/plain": [
       "                                                text\n",
       "0  To ask Mr Chancellor of the Exchequer, whether...\n",
       "1  To ask Mr Chancellor of the Exchequer, how man...\n",
       "2  To ask Her Majesty's Government whether an Eng...\n",
       "3  To ask Mr Chancellor of the Exchequer, how man...\n",
       "4  To ask Mr Chancellor of the Exchequer, when he..."
      ]
     },
     "execution_count": 2,
     "metadata": {},
     "output_type": "execute_result"
    }
   ],
   "source": [
    "fin_name = './questions.pkl'\n",
    "\n",
    "with open(fin_name, 'r') as f_in:\n",
    "    text = cPickle.load(f_in)\n",
    "\n",
    "df = pd.DataFrame()\n",
    "df['text'] = text\n",
    "df.head()"
   ]
  },
  {
   "cell_type": "markdown",
   "metadata": {},
   "source": [
    "Define a list of project specific stopwords."
   ]
  },
  {
   "cell_type": "code",
   "execution_count": 3,
   "metadata": {},
   "outputs": [],
   "source": [
    "my_stopwords = ['mr', 'ask', 'chancellor', 'exchequer']"
   ]
  },
  {
   "cell_type": "markdown",
   "metadata": {},
   "source": [
    "Define a function to clean and tokenise the results."
   ]
  },
  {
   "cell_type": "code",
   "execution_count": 4,
   "metadata": {},
   "outputs": [],
   "source": [
    "def tokeniser(text):\n",
    "    \n",
    "    # Remove any whitespace at the start and end of the string\n",
    "    # and remove any stray tabs and newline characters\n",
    "    text = text.strip()\n",
    "    \n",
    "    # Remove any weird unicode characters\n",
    "    if isinstance(text, unicode):\n",
    "        text = unicodedata.normalize('NFKD', text).encode('ascii', 'ignore')\n",
    "        \n",
    "    # Convert hyphens and slashes to spaces\n",
    "    text = re.sub(r'[-/]+',' ',text)\n",
    "    \n",
    "    # Remove remaining punctuation\n",
    "    text = text.translate(None, string.punctuation)\n",
    "    \n",
    "    # Convert the text to lowercase and use nltk tokeniser\n",
    "    tokens = word_tokenize(text.lower())\n",
    "    \n",
    "    # Define a list of stopwords apart from the word 'not'\n",
    "    stops = set(stopwords.words('english') + my_stopwords) - set(('not'))\n",
    "\n",
    "    # Define stemmer\n",
    "    stemmer = SnowballStemmer('english')\n",
    "\n",
    "    return [stemmer.stem(i) for i in tokens if i not in stops]\n"
   ]
  },
  {
   "cell_type": "markdown",
   "metadata": {},
   "source": [
    "Apply this function."
   ]
  },
  {
   "cell_type": "code",
   "execution_count": 5,
   "metadata": {},
   "outputs": [
    {
     "data": {
      "text/html": [
       "<div>\n",
       "<style scoped>\n",
       "    .dataframe tbody tr th:only-of-type {\n",
       "        vertical-align: middle;\n",
       "    }\n",
       "\n",
       "    .dataframe tbody tr th {\n",
       "        vertical-align: top;\n",
       "    }\n",
       "\n",
       "    .dataframe thead th {\n",
       "        text-align: right;\n",
       "    }\n",
       "</style>\n",
       "<table border=\"1\" class=\"dataframe\">\n",
       "  <thead>\n",
       "    <tr style=\"text-align: right;\">\n",
       "      <th></th>\n",
       "      <th>text</th>\n",
       "      <th>tokens</th>\n",
       "    </tr>\n",
       "  </thead>\n",
       "  <tbody>\n",
       "    <tr>\n",
       "      <th>0</th>\n",
       "      <td>To ask Mr Chancellor of the Exchequer, whether...</td>\n",
       "      <td>[whether, rate, corpor, tax, paid, privat, sec...</td>\n",
       "    </tr>\n",
       "    <tr>\n",
       "      <th>1</th>\n",
       "      <td>To ask Mr Chancellor of the Exchequer, how man...</td>\n",
       "      <td>[mani, credit, union, subject, intervent, fina...</td>\n",
       "    </tr>\n",
       "    <tr>\n",
       "      <th>2</th>\n",
       "      <td>To ask Her Majesty's Government whether an Eng...</td>\n",
       "      <td>[majesti, govern, whether, english, coupl, mar...</td>\n",
       "    </tr>\n",
       "    <tr>\n",
       "      <th>3</th>\n",
       "      <td>To ask Mr Chancellor of the Exchequer, how man...</td>\n",
       "      <td>[mani, proport, depart, answer, written, parli...</td>\n",
       "    </tr>\n",
       "    <tr>\n",
       "      <th>4</th>\n",
       "      <td>To ask Mr Chancellor of the Exchequer, when he...</td>\n",
       "      <td>[plan, publish, data, except, two, child, tax,...</td>\n",
       "    </tr>\n",
       "  </tbody>\n",
       "</table>\n",
       "</div>"
      ],
      "text/plain": [
       "                                                text  \\\n",
       "0  To ask Mr Chancellor of the Exchequer, whether...   \n",
       "1  To ask Mr Chancellor of the Exchequer, how man...   \n",
       "2  To ask Her Majesty's Government whether an Eng...   \n",
       "3  To ask Mr Chancellor of the Exchequer, how man...   \n",
       "4  To ask Mr Chancellor of the Exchequer, when he...   \n",
       "\n",
       "                                              tokens  \n",
       "0  [whether, rate, corpor, tax, paid, privat, sec...  \n",
       "1  [mani, credit, union, subject, intervent, fina...  \n",
       "2  [majesti, govern, whether, english, coupl, mar...  \n",
       "3  [mani, proport, depart, answer, written, parli...  \n",
       "4  [plan, publish, data, except, two, child, tax,...  "
      ]
     },
     "execution_count": 5,
     "metadata": {},
     "output_type": "execute_result"
    }
   ],
   "source": [
    "df['tokens'] = df['text'].apply(tokeniser)\n",
    "df.head()"
   ]
  },
  {
   "cell_type": "markdown",
   "metadata": {},
   "source": [
    "Save the dataframe."
   ]
  },
  {
   "cell_type": "code",
   "execution_count": 6,
   "metadata": {},
   "outputs": [],
   "source": [
    "fout_name = \"./tokenised.pkl\"\n",
    "df.to_pickle(fout_name)"
   ]
  }
 ],
 "metadata": {
  "kernelspec": {
   "display_name": "Python 2",
   "language": "python",
   "name": "python2"
  },
  "language_info": {
   "codemirror_mode": {
    "name": "ipython",
    "version": 2
   },
   "file_extension": ".py",
   "mimetype": "text/x-python",
   "name": "python",
   "nbconvert_exporter": "python",
   "pygments_lexer": "ipython2",
   "version": "2.7.14"
  }
 },
 "nbformat": 4,
 "nbformat_minor": 2
}
