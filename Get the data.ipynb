{
 "cells": [
  {
   "cell_type": "markdown",
   "metadata": {},
   "source": [
    "# Get the data\n",
    "\n",
    "Extract all answered Parliamentary questions sent to HM Tresury using the API from [data.parliament.uk](http://data.parliament.uk). In this case only save the text of the questions themselves."
   ]
  },
  {
   "cell_type": "code",
   "execution_count": 9,
   "metadata": {},
   "outputs": [],
   "source": [
    "import requests\n",
    "import cPickle\n",
    "import json\n",
    "\n",
    "from math import ceil\n",
    "from __future__ import division"
   ]
  },
  {
   "cell_type": "code",
   "execution_count": 6,
   "metadata": {
    "scrolled": true
   },
   "outputs": [
    {
     "name": "stdout",
     "output_type": "stream",
     "text": [
      "Number of pages to download: 51\n"
     ]
    }
   ],
   "source": [
    "commons_url = \"http://lda.data.parliament.uk/answeredquestions.json\"\n",
    "\n",
    "params = {}\n",
    "params[\"AnsweringBody\"] = \"HM Treasury\"\n",
    "params[\"_pageSize\"] = 1\n",
    "\n",
    "response = requests.get(commons_url, params=params).json()\n",
    "total_results = response[\"result\"][\"totalResults\"]\n",
    "\n",
    "page_size = 200\n",
    "params[\"_pageSize\"] = page_size\n",
    "num_pages = int(ceil(total_results / page_size))\n",
    "\n",
    "print \"Number of hits:\", total_results\n",
    "print \"Number of pages to download:\", num_pages"
   ]
  },
  {
   "cell_type": "code",
   "execution_count": 7,
   "metadata": {},
   "outputs": [
    {
     "name": "stdout",
     "output_type": "stream",
     "text": [
      "  Downloading page: 0\n",
      "  Downloading page: 10\n",
      "  Downloading page: 20\n",
      "  Downloading page: 30\n",
      "  Downloading page: 40\n",
      "  Downloading page: 50\n"
     ]
    }
   ],
   "source": [
    "# Print after this number of pages have been downloaded\n",
    "print_every = 10\n",
    "\n",
    "questions = []\n",
    "\n",
    "for page in xrange(0, num_pages):\n",
    "        if( page % print_every ==0):\n",
    "            print \"  Downloading page:\", page\n",
    "        \n",
    "        params[\"_page\"] = page\n",
    "        results = requests.get(commons_url, params=params).json()\n",
    "        for line in results[\"result\"][\"items\"]:\n",
    "            questions.append(line[\"questionText\"])\n",
    "\n",
    "assert total_results == len(questions)"
   ]
  },
  {
   "cell_type": "code",
   "execution_count": 11,
   "metadata": {},
   "outputs": [],
   "source": [
    "fname = \"./questions.pkl\"\n",
    "\n",
    "with open(fname, 'w') as fout:\n",
    "    cPickle.dump(questions, fout)"
   ]
  },
  {
   "cell_type": "code",
   "execution_count": null,
   "metadata": {},
   "outputs": [],
   "source": []
  }
 ],
 "metadata": {
  "kernelspec": {
   "display_name": "Python 2",
   "language": "python",
   "name": "python2"
  },
  "language_info": {
   "codemirror_mode": {
    "name": "ipython",
    "version": 2
   },
   "file_extension": ".py",
   "mimetype": "text/x-python",
   "name": "python",
   "nbconvert_exporter": "python",
   "pygments_lexer": "ipython2",
   "version": "2.7.14"
  }
 },
 "nbformat": 4,
 "nbformat_minor": 2
}
